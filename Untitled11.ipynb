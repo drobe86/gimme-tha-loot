{
 "cells": [
  {
   "cell_type": "code",
   "execution_count": 1,
   "metadata": {},
   "outputs": [],
   "source": [
    "import requests\n",
    "from __future__ import print_function"
   ]
  },
  {
   "cell_type": "code",
   "execution_count": 2,
   "metadata": {},
   "outputs": [],
   "source": [
    "import twitter\n",
    "CONSUMER_KEY = '0zNZMnwUd2m2Bgz3q0y0DKQTF'\n",
    "CONSUMER_SECRET = 'AzAEFKsi0QzljFTIEqXb9uiNlOcLz4DgqSb3zKQRXwwS1sVipK'\n",
    "ACCESS_TOKEN = '2254332540-KqJBUtvQxD7OikrFT7IonNXbFxjoMmFN8jmI56Y'\n",
    "ACCESS_TOKEN_SECRET = 'U6sVL2ow2bAMEHkd517FpShtyPvm6hmOUsHKEvDF2FFpM'\n",
    "api = twitter.Api(consumer_key= CONSUMER_KEY,\n",
    "                  consumer_secret= CONSUMER_SECRET,\n",
    "                  access_token_key= ACCESS_TOKEN,\n",
    "                  access_token_secret= ACCESS_TOKEN_SECRET)"
   ]
  },
  {
   "cell_type": "code",
   "execution_count": 3,
   "metadata": {},
   "outputs": [
    {
     "name": "stdout",
     "output_type": "stream",
     "text": [
      "{\"created_at\": \"Fri Dec 20 02:09:24 +0000 2013\", \"default_profile\": true, \"favourites_count\": 1038, \"followers_count\": 244, \"friends_count\": 254, \"geo_enabled\": true, \"id\": 2254332540, \"id_str\": \"2254332540\", \"name\": \"Dale robey\", \"profile_background_color\": \"C0DEED\", \"profile_background_image_url\": \"http://abs.twimg.com/images/themes/theme1/bg.png\", \"profile_background_image_url_https\": \"https://abs.twimg.com/images/themes/theme1/bg.png\", \"profile_banner_url\": \"https://pbs.twimg.com/profile_banners/2254332540/1471185069\", \"profile_image_url\": \"http://pbs.twimg.com/profile_images/1024311631600345089/UE--o9Va_normal.jpg\", \"profile_image_url_https\": \"https://pbs.twimg.com/profile_images/1024311631600345089/UE--o9Va_normal.jpg\", \"profile_link_color\": \"1DA1F2\", \"profile_sidebar_border_color\": \"C0DEED\", \"profile_sidebar_fill_color\": \"DDEEF6\", \"profile_text_color\": \"333333\", \"profile_use_background_image\": true, \"screen_name\": \"drobey5\", \"status\": {\"created_at\": \"Fri May 03 17:13:53 +0000 2019\", \"favorite_count\": 1, \"id\": 1124361449160110081, \"id_str\": \"1124361449160110081\", \"in_reply_to_screen_name\": \"TroyFurlong7\", \"in_reply_to_status_id\": 1124352743869747200, \"in_reply_to_user_id\": 1135716428, \"lang\": \"en\", \"source\": \"<a href=\\\"http://twitter.com/download/iphone\\\" rel=\\\"nofollow\\\">Twitter for iPhone</a>\", \"text\": \"@TroyFurlong7 Damn don\\u2019t let @ASICSamerica find out\"}, \"statuses_count\": 601}\n"
     ]
    }
   ],
   "source": [
    "print(api.VerifyCredentials())"
   ]
  },
  {
   "cell_type": "code",
   "execution_count": 4,
   "metadata": {},
   "outputs": [
    {
     "name": "stdout",
     "output_type": "stream",
     "text": [
      "['RT @LilNasX: we saving the ocean all 2020 😈 onna gang!', 'RT @tabwire: How do Italians hold pistols.. 😂 https://t.co/g0qtLqfKSa', '@Oophelia_barcel https://t.co/dY6YoJBgNJ', 'RT @TheKOQ: We all know who the real king is. https://t.co/BrkQju7ihA', 'I dont want a Jon and Tormund Adventures spinoff, I NEED a Jon snd Tormund Adventures spinoff', 'RT @LacrosseCave: Some top 🧀 for your Friday.\\n•\\n@CocksLacrosse\\n@Kiywii https://t.co/p72hdaKjL2', 'Im all in on this take #20stoppollutingouroceans19 https://t.co/2XCcF88i05', \"RT @LifeOfJay98: When you try to help but have no idea what you're doing https://t.co/3W0flxgxio\", 'RT @jourdaindong: Bill Nye not the same Bill Nye we used to know 💀 https://t.co/LgKef8E4vG', '@ducci_mane3 @DannyZurawski @DatAsianboiii23 Nah', '@ducci_mane3 @DannyZurawski @DatAsianboiii23 I did', '@ducci_mane3 @DatAsianboiii23 @DannyZurawski False af', 'Officially an Adidas guy bc its 20stoppollutingouroceans19 https://t.co/m2GGvsw2Je', 'RT @cousinbrendan: This is my official vote for Best Picture https://t.co/o3r3N2zJj4', 'RT @nefariousIoki: chris hemsworth renewed his contract with marvel!!! here’s to the newest member of the guardians of the galaxy, mister t…', 'I wanna grow up to be Starlord', '@patreilly24 @daddyren_ 20stoppollutingouroceans19', 'RT @daddyren_: This makes me so angry. It should make everyone angry. https://t.co/AXkppObbS0', \"RT @silouvette: STOP SCROLLING, STOP WHAT YOU'RE DOING AND WATCH THIS\\nhttps://t.co/OHCIwmPDWT\"]\n"
     ]
    }
   ],
   "source": [
    "statuses = api.GetUserTimeline(screen_name='TroyFurlong7')\n",
    "print([s.text for s in statuses])"
   ]
  },
  {
   "cell_type": "code",
   "execution_count": 5,
   "metadata": {},
   "outputs": [
    {
     "name": "stdout",
     "output_type": "stream",
     "text": [
      "[Status(ID=1132125260277518342, ScreenName=TroyFurlong7, Created=Sat May 25 03:24:30 +0000 2019, Text='RT @LilNasX: we saving the ocean all 2020 😈 onna gang!'), Status(ID=1131406106646011905, ScreenName=TroyFurlong7, Created=Thu May 23 03:46:50 +0000 2019, Text='RT @tabwire: How do Italians hold pistols.. 😂 https://t.co/g0qtLqfKSa'), Status(ID=1130314986247663616, ScreenName=TroyFurlong7, Created=Mon May 20 03:31:07 +0000 2019, Text='@Oophelia_barcel https://t.co/dY6YoJBgNJ'), Status(ID=1130301426402504704, ScreenName=TroyFurlong7, Created=Mon May 20 02:37:14 +0000 2019, Text='RT @TheKOQ: We all know who the real king is. https://t.co/BrkQju7ihA'), Status(ID=1130299082587680769, ScreenName=TroyFurlong7, Created=Mon May 20 02:27:55 +0000 2019, Text='I dont want a Jon and Tormund Adventures spinoff, I NEED a Jon snd Tormund Adventures spinoff'), Status(ID=1129459856702955522, ScreenName=TroyFurlong7, Created=Fri May 17 18:53:08 +0000 2019, Text='RT @LacrosseCave: Some top 🧀 for your Friday.\\n•\\n@CocksLacrosse\\n@Kiywii https://t.co/p72hdaKjL2'), Status(ID=1128740779244032006, ScreenName=TroyFurlong7, Created=Wed May 15 19:15:47 +0000 2019, Text='Im all in on this take #20stoppollutingouroceans19 https://t.co/2XCcF88i05'), Status(ID=1128332425011003397, ScreenName=TroyFurlong7, Created=Tue May 14 16:13:08 +0000 2019, Text=\"RT @LifeOfJay98: When you try to help but have no idea what you're doing https://t.co/3W0flxgxio\"), Status(ID=1128005749681139720, ScreenName=TroyFurlong7, Created=Mon May 13 18:35:02 +0000 2019, Text='RT @jourdaindong: Bill Nye not the same Bill Nye we used to know 💀 https://t.co/LgKef8E4vG'), Status(ID=1127789325016621057, ScreenName=TroyFurlong7, Created=Mon May 13 04:15:03 +0000 2019, Text='@ducci_mane3 @DannyZurawski @DatAsianboiii23 Nah'), Status(ID=1127788898011222019, ScreenName=TroyFurlong7, Created=Mon May 13 04:13:21 +0000 2019, Text='@ducci_mane3 @DannyZurawski @DatAsianboiii23 I did'), Status(ID=1127788009150132225, ScreenName=TroyFurlong7, Created=Mon May 13 04:09:49 +0000 2019, Text='@ducci_mane3 @DatAsianboiii23 @DannyZurawski False af'), Status(ID=1124352743869747200, ScreenName=TroyFurlong7, Created=Fri May 03 16:39:18 +0000 2019, Text='Officially an Adidas guy bc its 20stoppollutingouroceans19 https://t.co/m2GGvsw2Je'), Status(ID=1124137443706458112, ScreenName=TroyFurlong7, Created=Fri May 03 02:23:46 +0000 2019, Text='RT @cousinbrendan: This is my official vote for Best Picture https://t.co/o3r3N2zJj4'), Status(ID=1123847159756070916, ScreenName=TroyFurlong7, Created=Thu May 02 07:10:17 +0000 2019, Text='RT @nefariousIoki: chris hemsworth renewed his contract with marvel!!! here’s to the newest member of the guardians of the galaxy, mister t…'), Status(ID=1123460928572403713, ScreenName=TroyFurlong7, Created=Wed May 01 05:35:32 +0000 2019, Text='I wanna grow up to be Starlord'), Status(ID=1120178451259035648, ScreenName=TroyFurlong7, Created=Mon Apr 22 04:12:09 +0000 2019, Text='@patreilly24 @daddyren_ 20stoppollutingouroceans19'), Status(ID=1120178386238832640, ScreenName=TroyFurlong7, Created=Mon Apr 22 04:11:53 +0000 2019, Text='RT @daddyren_: This makes me so angry. It should make everyone angry. https://t.co/AXkppObbS0'), Status(ID=1120017309689630722, ScreenName=TroyFurlong7, Created=Sun Apr 21 17:31:50 +0000 2019, Text=\"RT @silouvette: STOP SCROLLING, STOP WHAT YOU'RE DOING AND WATCH THIS\\nhttps://t.co/OHCIwmPDWT\")]\n"
     ]
    }
   ],
   "source": [
    "print(statuses)"
   ]
  },
  {
   "cell_type": "code",
   "execution_count": 28,
   "metadata": {},
   "outputs": [
    {
     "data": {
      "text/plain": [
       "[User(ID=1034895307073638400, ScreenName=malloryrobey5),\n",
       " User(ID=2834382015, ScreenName=FrancisCEllis),\n",
       " User(ID=2228878592, ScreenName=AndrewYang),\n",
       " User(ID=3416609181, ScreenName=sleepingongems),\n",
       " User(ID=27083523, ScreenName=GuyFieri),\n",
       " User(ID=1147039789, ScreenName=notviking),\n",
       " User(ID=500497164, ScreenName=BillRatchet),\n",
       " User(ID=186320027, ScreenName=FeitsBarstool),\n",
       " User(ID=263463933, ScreenName=Sam_Boger),\n",
       " User(ID=169686021, ScreenName=kanyewest),\n",
       " User(ID=870327795578277888, ScreenName=McquillenConnor),\n",
       " User(ID=51263592, ScreenName=AdamSchefter),\n",
       " User(ID=1110533077, ScreenName=ryanb616),\n",
       " User(ID=4196983835, ScreenName=dog_rates),\n",
       " User(ID=25073877, ScreenName=realDonaldTrump),\n",
       " User(ID=835083097, ScreenName=PupsPorn),\n",
       " User(ID=1915534530, ScreenName=OhMyCorgi),\n",
       " User(ID=43775786, ScreenName=stoolpresidente),\n",
       " User(ID=22637974, ScreenName=barstoolsports),\n",
       " User(ID=568825492, ScreenName=CuteEmergency),\n",
       " User(ID=981417426, ScreenName=bsurrey14),\n",
       " User(ID=744293239000301568, ScreenName=natcoope_),\n",
       " User(ID=50323173, ScreenName=wojespn),\n",
       " User(ID=1055701410, ScreenName=nborsy13),\n",
       " User(ID=1283653572, ScreenName=marksmitty15),\n",
       " User(ID=632135467, ScreenName=jakemahnke),\n",
       " User(ID=4831143005, ScreenName=RossGG_),\n",
       " User(ID=858716964, ScreenName=PFTCommenter),\n",
       " User(ID=353941929, ScreenName=BeezySZN),\n",
       " User(ID=785311215182458881, ScreenName=RealKennyBone),\n",
       " User(ID=589685880, ScreenName=better_lang),\n",
       " User(ID=528869749, ScreenName=shebooked),\n",
       " User(ID=706684454, ScreenName=theREALtonymuto),\n",
       " User(ID=253167239, ScreenName=GoldmanSachs),\n",
       " User(ID=760675980721750020, ScreenName=Nicktheitalian3),\n",
       " User(ID=758016459494690816, ScreenName=RotoStreetJoe),\n",
       " User(ID=221521772, ScreenName=KeithOngeri),\n",
       " User(ID=701866660848910336, ScreenName=ajkleima),\n",
       " User(ID=3246935448, ScreenName=reil_jacob),\n",
       " User(ID=44196397, ScreenName=elonmusk),\n",
       " User(ID=305278762, ScreenName=KassidyCook1),\n",
       " User(ID=123276343, ScreenName=BarstoolBigCat),\n",
       " User(ID=30849103, ScreenName=jimjefferies),\n",
       " User(ID=11912362, ScreenName=WORLDSTAR),\n",
       " User(ID=2297244138, ScreenName=DailyRapFacts),\n",
       " User(ID=502035359, ScreenName=_aaronclark_),\n",
       " User(ID=455289558, ScreenName=MaxJindra),\n",
       " User(ID=381832189, ScreenName=JeremyPercy),\n",
       " User(ID=473413298, ScreenName=mdeedrick4),\n",
       " User(ID=4870704532, ScreenName=JortsAndSports),\n",
       " User(ID=4896306579, ScreenName=sexy_dads),\n",
       " User(ID=452702254, ScreenName=tristan_kollar),\n",
       " User(ID=392345734, ScreenName=kthomps05),\n",
       " User(ID=578147328, ScreenName=miguelsant94),\n",
       " User(ID=314200228, ScreenName=LaurenStoriz),\n",
       " User(ID=118496098, ScreenName=nickmonroe_),\n",
       " User(ID=207663706, ScreenName=Ngando6),\n",
       " User(ID=580146254, ScreenName=KimJeongThrill),\n",
       " User(ID=155116268, ScreenName=Jack_Knowles123),\n",
       " User(ID=318582383, ScreenName=J_STEVE23),\n",
       " User(ID=261981488, ScreenName=Albert_Turk3y),\n",
       " User(ID=1921610773, ScreenName=RileyHull5),\n",
       " User(ID=250902726, ScreenName=TheJustinBaker),\n",
       " User(ID=413316210, ScreenName=ADMcCorm),\n",
       " User(ID=4085019016, ScreenName=megklips),\n",
       " User(ID=401681146, ScreenName=NiykeeHeaton),\n",
       " User(ID=1732407248, ScreenName=billdphan),\n",
       " User(ID=445969063, ScreenName=AbigatorStone),\n",
       " User(ID=1245026832, ScreenName=charizardbrady),\n",
       " User(ID=969259782, ScreenName=akinzler25),\n",
       " User(ID=361452817, ScreenName=aricon1),\n",
       " User(ID=1654011176, ScreenName=No_mill),\n",
       " User(ID=356612788, ScreenName=ThomasBechtel),\n",
       " User(ID=280174913, ScreenName=Ojars_Berzins),\n",
       " User(ID=439733369, ScreenName=brianmischler),\n",
       " User(ID=713716282, ScreenName=bltomnitz),\n",
       " User(ID=360827140, ScreenName=sirzackdoerrer),\n",
       " User(ID=255757940, ScreenName=kaciefuhrer),\n",
       " User(ID=245615748, ScreenName=kendallbelle),\n",
       " User(ID=754301400, ScreenName=BrianBeFlyin),\n",
       " User(ID=1258348700, ScreenName=tab_daddy),\n",
       " User(ID=3009184641, ScreenName=MichalakPatrick),\n",
       " User(ID=838684014, ScreenName=caitlinrinke),\n",
       " User(ID=2346131184, ScreenName=gabe_leeee),\n",
       " User(ID=157722437, ScreenName=Livinlrg777),\n",
       " User(ID=324180700, ScreenName=tpmbrown),\n",
       " User(ID=387138018, ScreenName=JStarkston),\n",
       " User(ID=403682752, ScreenName=Chess_Malizia),\n",
       " User(ID=190417083, ScreenName=Caleb_Host),\n",
       " User(ID=223678746, ScreenName=jclare29),\n",
       " User(ID=119572052, ScreenName=ANeids11),\n",
       " User(ID=2957684550, ScreenName=DominskiBrandon),\n",
       " User(ID=415247053, ScreenName=Dat_Dude_DB),\n",
       " User(ID=314970270, ScreenName=lukehiggins_),\n",
       " User(ID=945674696, ScreenName=jamesserrano111),\n",
       " User(ID=29771593, ScreenName=BTF66),\n",
       " User(ID=2941835325, ScreenName=Tyler__McBride),\n",
       " User(ID=919920948, ScreenName=tylerhnat),\n",
       " User(ID=849904526, ScreenName=TheVaibhavKolli),\n",
       " User(ID=425593650, ScreenName=CandothisallRay),\n",
       " User(ID=45714268, ScreenName=Darkhero5050),\n",
       " User(ID=368549091, ScreenName=Damian_Fetscher),\n",
       " User(ID=477528477, ScreenName=JD_Volz),\n",
       " User(ID=269118659, ScreenName=WestSayeed),\n",
       " User(ID=1969103976, ScreenName=TommyGun05),\n",
       " User(ID=379408527, ScreenName=thejohnnyjazz),\n",
       " User(ID=399118963, ScreenName=cassdennin),\n",
       " User(ID=568665046, ScreenName=mruppert11),\n",
       " User(ID=2768941398, ScreenName=Noodles2727),\n",
       " User(ID=957928334, ScreenName=Elpers_Helpers),\n",
       " User(ID=438066099, ScreenName=fitz_seanmartin),\n",
       " User(ID=1031193282, ScreenName=TweetlessAndrew),\n",
       " User(ID=42714201, ScreenName=cdickerson317),\n",
       " User(ID=2205722822, ScreenName=TheAnnaFaith),\n",
       " User(ID=96422187, ScreenName=IVmusic_),\n",
       " User(ID=316700992, ScreenName=alexquade),\n",
       " User(ID=370464303, ScreenName=antman355),\n",
       " User(ID=2760100459, ScreenName=SchoolboiKells),\n",
       " User(ID=42150255, ScreenName=chop_22),\n",
       " User(ID=362155061, ScreenName=TheWilliamClark),\n",
       " User(ID=302733251, ScreenName=rahim1993),\n",
       " User(ID=283281108, ScreenName=gsobecki8),\n",
       " User(ID=387637348, ScreenName=Shelar121),\n",
       " User(ID=402823030, ScreenName=LeOcho1124),\n",
       " User(ID=403110594, ScreenName=gavin_hodges),\n",
       " User(ID=1170323389, ScreenName=iupikes),\n",
       " User(ID=576790338, ScreenName=RLahey18),\n",
       " User(ID=332405003, ScreenName=WesleyPehling),\n",
       " User(ID=367835682, ScreenName=bowmastaflex),\n",
       " User(ID=315308441, ScreenName=emilykadubek),\n",
       " User(ID=1547222376, ScreenName=Twestphal11),\n",
       " User(ID=364465773, ScreenName=marykate_gaff),\n",
       " User(ID=316119129, ScreenName=Ryschim),\n",
       " User(ID=2624499658, ScreenName=scott_marten),\n",
       " User(ID=66618379, ScreenName=ItsJoshPeck),\n",
       " User(ID=206435365, ScreenName=Timeflies),\n",
       " User(ID=500361775, ScreenName=SarahG_McDonald),\n",
       " User(ID=2601113522, ScreenName=Chris_Kaminski1),\n",
       " User(ID=1797846721, ScreenName=jiver10),\n",
       " User(ID=629885321, ScreenName=Griffdawg_Sully),\n",
       " User(ID=2596206418, ScreenName=edruszkowski),\n",
       " User(ID=2577860118, ScreenName=Big_zeezy),\n",
       " User(ID=465699623, ScreenName=Ivanramon96),\n",
       " User(ID=496498982, ScreenName=jackkurczewski),\n",
       " User(ID=460439189, ScreenName=ash_steveO),\n",
       " User(ID=534724286, ScreenName=kari_molloy),\n",
       " User(ID=1976596310, ScreenName=maurerhouse),\n",
       " User(ID=1411659583, ScreenName=MHuddlestun),\n",
       " User(ID=1473036288, ScreenName=CambronJesse),\n",
       " User(ID=578616235, ScreenName=zstace58),\n",
       " User(ID=345170629, ScreenName=allypasc),\n",
       " User(ID=411843189, ScreenName=BSkiniotes),\n",
       " User(ID=564222462, ScreenName=ashbashh7),\n",
       " User(ID=398131031, ScreenName=rachbenda),\n",
       " User(ID=485010532, ScreenName=kenziehennessy),\n",
       " User(ID=1276105254, ScreenName=coexistwme),\n",
       " User(ID=2274042674, ScreenName=Reil1J),\n",
       " User(ID=2389160773, ScreenName=kylie_cousins),\n",
       " User(ID=1892117472, ScreenName=zac_host),\n",
       " User(ID=279692120, ScreenName=StevOLotz),\n",
       " User(ID=1151984448, ScreenName=lucmac83),\n",
       " User(ID=1081763634, ScreenName=nswanz34),\n",
       " User(ID=807252913, ScreenName=Jacob025S),\n",
       " User(ID=1512090620, ScreenName=HosmanMitch),\n",
       " User(ID=1398175572, ScreenName=NickRepka),\n",
       " User(ID=799563066, ScreenName=ConnorCampbel2),\n",
       " User(ID=797457972, ScreenName=Michael_Hanly),\n",
       " User(ID=2369721235, ScreenName=bigmitchseves),\n",
       " User(ID=2366688073, ScreenName=Ericryan25),\n",
       " User(ID=746449748, ScreenName=jackgrove21),\n",
       " User(ID=372488543, ScreenName=jlysik2),\n",
       " User(ID=788327881, ScreenName=finnin_candace),\n",
       " User(ID=1342783706, ScreenName=dan_eber),\n",
       " User(ID=1429131920, ScreenName=DatBabyG),\n",
       " User(ID=308835493, ScreenName=tuba266),\n",
       " User(ID=1439646331, ScreenName=tj_michalski),\n",
       " User(ID=444247382, ScreenName=Tyostt),\n",
       " User(ID=380064184, ScreenName=manzelladl94),\n",
       " User(ID=1035884460, ScreenName=Kyle_Kamp),\n",
       " User(ID=736179198, ScreenName=jesss_whiite),\n",
       " User(ID=419974972, ScreenName=skylarbojan),\n",
       " User(ID=2287599367, ScreenName=k_mitchell13),\n",
       " User(ID=560789886, ScreenName=madison_adduci),\n",
       " User(ID=464124237, ScreenName=seanbarry2020),\n",
       " User(ID=424714729, ScreenName=Jerrygenova1),\n",
       " User(ID=59134220, ScreenName=nwinter10),\n",
       " User(ID=47018799, ScreenName=jakemesewicz),\n",
       " User(ID=340820244, ScreenName=austinoc_),\n",
       " User(ID=100717136, ScreenName=angelina_muzz),\n",
       " User(ID=1578490633, ScreenName=CeciliaPiet),\n",
       " User(ID=731136578, ScreenName=itsswitzz),\n",
       " User(ID=249460032, ScreenName=brian_wenger),\n",
       " User(ID=569644423, ScreenName=cailyn_H),\n",
       " User(ID=1059403268, ScreenName=DavidVice30),\n",
       " User(ID=366399795, ScreenName=Im_Kiernan),\n",
       " User(ID=565171406, ScreenName=AmberRouleau),\n",
       " User(ID=2247698000, ScreenName=jreif_23),\n",
       " User(ID=1110398636, ScreenName=jt_schmitt),\n",
       " User(ID=1398425581, ScreenName=hayes_nolan),\n",
       " User(ID=418382390, ScreenName=Star_ce_vich),\n",
       " User(ID=1838178756, ScreenName=daniel_c_harris),\n",
       " User(ID=267434987, ScreenName=jenn_whitney),\n",
       " User(ID=385759053, ScreenName=Imeagher33),\n",
       " User(ID=867191772, ScreenName=J_Robbs21),\n",
       " User(ID=464098180, ScreenName=calehayes10),\n",
       " User(ID=465888704, ScreenName=robertsonabby2),\n",
       " User(ID=1319581688, ScreenName=RCrundwell),\n",
       " User(ID=799400622, ScreenName=kjbrown37),\n",
       " User(ID=553772605, ScreenName=ErikHark),\n",
       " User(ID=408865931, ScreenName=p_specha0602),\n",
       " User(ID=418658561, ScreenName=carsonleske),\n",
       " User(ID=2171357598, ScreenName=JoeBo_Baggins14),\n",
       " User(ID=2172282133, ScreenName=Dan_Bochenczak),\n",
       " User(ID=564203266, ScreenName=BradNolan11),\n",
       " User(ID=893170944, ScreenName=devinpb96),\n",
       " User(ID=580349661, ScreenName=ducci_mane3),\n",
       " User(ID=924247879, ScreenName=JRuzas),\n",
       " User(ID=1341150750, ScreenName=vinniejae16),\n",
       " User(ID=594797969, ScreenName=h2osty),\n",
       " User(ID=418689776, ScreenName=JBourell),\n",
       " User(ID=610329079, ScreenName=JakeHaubs),\n",
       " User(ID=828232693, ScreenName=brooke_mejdrich),\n",
       " User(ID=1027093045, ScreenName=JoeRodrigues11),\n",
       " User(ID=344411336, ScreenName=justinmarkus23),\n",
       " User(ID=1370817680, ScreenName=JacobMcGrath23),\n",
       " User(ID=335643024, ScreenName=charlesshauger),\n",
       " User(ID=629025502, ScreenName=ryan_biscan),\n",
       " User(ID=389691708, ScreenName=maryyonkaitis),\n",
       " User(ID=418404273, ScreenName=wvlfteen),\n",
       " User(ID=369812745, ScreenName=BecBencsik),\n",
       " User(ID=865702190, ScreenName=Scott_Neumann18),\n",
       " User(ID=2254434865, ScreenName=TheJaymzTrax),\n",
       " User(ID=844220436, ScreenName=TheMan2014),\n",
       " User(ID=360356191, ScreenName=Kmamps),\n",
       " User(ID=1473651002, ScreenName=tony_kestel),\n",
       " User(ID=1014267613, ScreenName=BradleyBass45),\n",
       " User(ID=549268826, ScreenName=shane_stover),\n",
       " User(ID=392437841, ScreenName=erin_duty),\n",
       " User(ID=476341484, ScreenName=brandnferguson),\n",
       " User(ID=1398253974, ScreenName=BrandonDominski),\n",
       " User(ID=490843807, ScreenName=parkeryoung_),\n",
       " User(ID=441309051, ScreenName=DominicBotta),\n",
       " User(ID=1401217860, ScreenName=MichalakPat),\n",
       " User(ID=1855722290, ScreenName=scottburns222),\n",
       " User(ID=1380663770, ScreenName=Seankellyyyyy),\n",
       " User(ID=263996135, ScreenName=aabbiiggaaiillh),\n",
       " User(ID=1869847436, ScreenName=studerstud45),\n",
       " User(ID=1714186027, ScreenName=RyEarll),\n",
       " User(ID=286856138, ScreenName=lukebannerman24),\n",
       " User(ID=1957620600, ScreenName=kylestelmaszek),\n",
       " User(ID=991989234, ScreenName=NickSchu75),\n",
       " User(ID=1069796359, ScreenName=KirkBoer1),\n",
       " User(ID=467055816, ScreenName=Johnrubino68),\n",
       " User(ID=1135716428, ScreenName=TroyFurlong7)]"
      ]
     },
     "execution_count": 28,
     "metadata": {},
     "output_type": "execute_result"
    }
   ],
   "source": [
    "api.GetFriends()\n",
    "#users = api.GetFriends()\n",
    "#print([u.name for u in users])"
   ]
  },
  {
   "cell_type": "code",
   "execution_count": 7,
   "metadata": {},
   "outputs": [
    {
     "data": {
      "text/plain": [
       "{'errors': [{'code': 214,\n",
       "   'message': \"event.message_create.target.recipient_id: 'ducci_mane3' is not a valid Long\"}]}"
      ]
     },
     "execution_count": 7,
     "metadata": {},
     "output_type": "execute_result"
    }
   ],
   "source": [
    "message = \"Dood this is how bots send all their shit\"\n",
    "user = 'ducci_mane3'\n",
    "api.PostDirectMessage(message, user_id=user,return_json = True)"
   ]
  },
  {
   "cell_type": "code",
   "execution_count": 32,
   "metadata": {},
   "outputs": [
    {
     "name": "stdout",
     "output_type": "stream",
     "text": [
      "Dood this is how bots send all their shit 27-05-2019 21:11:31\n"
     ]
    }
   ],
   "source": [
    "import time\n",
    "t = time.strftime(\"%d-%m-%Y %H:%M:%S\", time.gmtime())\n",
    "msg = \"Dood this is how bots send all their shit \" + t\n",
    "print(msg)"
   ]
  },
  {
   "cell_type": "code",
   "execution_count": 21,
   "metadata": {},
   "outputs": [
    {
     "ename": "KeyError",
     "evalue": "'event'",
     "output_type": "error",
     "traceback": [
      "\u001b[1;31m---------------------------------------------------------------------------\u001b[0m",
      "\u001b[1;31mKeyError\u001b[0m                                  Traceback (most recent call last)",
      "\u001b[1;32m<ipython-input-21-b01cc12cfcde>\u001b[0m in \u001b[0;36m<module>\u001b[1;34m()\u001b[0m\n\u001b[0;32m      1\u001b[0m \u001b[0mmsg\u001b[0m \u001b[1;33m=\u001b[0m \u001b[1;34m\"Dood this is how bots send all their shit\"\u001b[0m\u001b[1;33m\u001b[0m\u001b[0m\n\u001b[0;32m      2\u001b[0m \u001b[0muser\u001b[0m \u001b[1;33m=\u001b[0m \u001b[1;34m'@TroyFurlong7'\u001b[0m\u001b[1;33m\u001b[0m\u001b[0m\n\u001b[1;32m----> 3\u001b[1;33m \u001b[0mapi\u001b[0m\u001b[1;33m.\u001b[0m\u001b[0mPostDirectMessage\u001b[0m\u001b[1;33m(\u001b[0m\u001b[0mtext\u001b[0m \u001b[1;33m=\u001b[0m \u001b[0mmsg\u001b[0m\u001b[1;33m,\u001b[0m \u001b[0muser_id\u001b[0m\u001b[1;33m=\u001b[0m\u001b[0muser\u001b[0m\u001b[1;33m)\u001b[0m\u001b[1;33m\u001b[0m\u001b[0m\n\u001b[0m",
      "\u001b[1;32m~\\AppData\\Local\\Continuum\\anaconda3\\lib\\site-packages\\twitter\\api.py\u001b[0m in \u001b[0;36mPostDirectMessage\u001b[1;34m(self, text, user_id, screen_name, return_json)\u001b[0m\n\u001b[0;32m   3042\u001b[0m         \u001b[1;32melse\u001b[0m\u001b[1;33m:\u001b[0m\u001b[1;33m\u001b[0m\u001b[0m\n\u001b[0;32m   3043\u001b[0m             dm = DirectMessage(\n\u001b[1;32m-> 3044\u001b[1;33m                 \u001b[0mcreated_at\u001b[0m\u001b[1;33m=\u001b[0m\u001b[0mdata\u001b[0m\u001b[1;33m[\u001b[0m\u001b[1;34m'event'\u001b[0m\u001b[1;33m]\u001b[0m\u001b[1;33m[\u001b[0m\u001b[1;34m'created_timestamp'\u001b[0m\u001b[1;33m]\u001b[0m\u001b[1;33m,\u001b[0m\u001b[1;33m\u001b[0m\u001b[0m\n\u001b[0m\u001b[0;32m   3045\u001b[0m                 \u001b[0mid\u001b[0m\u001b[1;33m=\u001b[0m\u001b[0mdata\u001b[0m\u001b[1;33m[\u001b[0m\u001b[1;34m'event'\u001b[0m\u001b[1;33m]\u001b[0m\u001b[1;33m[\u001b[0m\u001b[1;34m'id'\u001b[0m\u001b[1;33m]\u001b[0m\u001b[1;33m,\u001b[0m\u001b[1;33m\u001b[0m\u001b[0m\n\u001b[0;32m   3046\u001b[0m                 \u001b[0mrecipient_id\u001b[0m\u001b[1;33m=\u001b[0m\u001b[0mdata\u001b[0m\u001b[1;33m[\u001b[0m\u001b[1;34m'event'\u001b[0m\u001b[1;33m]\u001b[0m\u001b[1;33m[\u001b[0m\u001b[1;34m'message_create'\u001b[0m\u001b[1;33m]\u001b[0m\u001b[1;33m[\u001b[0m\u001b[1;34m'target'\u001b[0m\u001b[1;33m]\u001b[0m\u001b[1;33m[\u001b[0m\u001b[1;34m'recipient_id'\u001b[0m\u001b[1;33m]\u001b[0m\u001b[1;33m,\u001b[0m\u001b[1;33m\u001b[0m\u001b[0m\n",
      "\u001b[1;31mKeyError\u001b[0m: 'event'"
     ]
    }
   ],
   "source": [
    "msg = \"Dood this is how bots send all their shit\"\n",
    "user = '@TroyFurlong7'\n",
    "api.PostDirectMessage(text = msg, user_id=user)"
   ]
  },
  {
   "cell_type": "code",
   "execution_count": 18,
   "metadata": {},
   "outputs": [
    {
     "name": "stdout",
     "output_type": "stream",
     "text": [
      "[(1, 10), (2, 12), (3, 13)]\n"
     ]
    }
   ],
   "source": [
    "names = [1,2,3]\n",
    "heights = [10,12,13]\n",
    "name_height = zip(names,heights)\n",
    "print(list(name_height))"
   ]
  },
  {
   "cell_type": "code",
   "execution_count": 8,
   "metadata": {},
   "outputs": [],
   "source": [
    "import json"
   ]
  },
  {
   "cell_type": "code",
   "execution_count": 9,
   "metadata": {},
   "outputs": [
    {
     "data": {
      "text/plain": [
       "{'event': {'type': 'message_create',\n",
       "  'message_create': {'target': {'recipient_id': 'RECIPIENT_USER_ID'},\n",
       "   'message_data': {'text': 'Hello World!'}}}}"
      ]
     },
     "execution_count": 9,
     "metadata": {},
     "output_type": "execute_result"
    }
   ],
   "source": [
    "{\n",
    "\"event\": {\n",
    "  \"type\": \"message_create\",\n",
    "  \"message_create\": {\n",
    "    \"target\": {\n",
    "      \"recipient_id\": \"RECIPIENT_USER_ID\"\n",
    "    },\n",
    "    \"message_data\": {\n",
    "      \"text\": \"Hello World!\",\n",
    "    }\n",
    "  }\n",
    "}\n",
    "}"
   ]
  },
  {
   "cell_type": "code",
   "execution_count": 11,
   "metadata": {},
   "outputs": [
    {
     "ename": "SyntaxError",
     "evalue": "invalid syntax (<ipython-input-11-42518820072d>, line 1)",
     "output_type": "error",
     "traceback": [
      "\u001b[1;36m  File \u001b[1;32m\"<ipython-input-11-42518820072d>\"\u001b[1;36m, line \u001b[1;32m1\u001b[0m\n\u001b[1;33m    request POST\u001b[0m\n\u001b[1;37m               ^\u001b[0m\n\u001b[1;31mSyntaxError\u001b[0m\u001b[1;31m:\u001b[0m invalid syntax\n"
     ]
    }
   ],
   "source": [
    "request POST \n",
    "url https://api.twitter.com/1.1/direct_messages/events/new.json \n",
    "header 'authorization: OAuth oauth_consumer_key=\"YOUR_CONSUMER_KEY\", oauth_nonce=\"AUTO_GENERATED_NONCE\", oauth_signature=\"AUTO_GENERATED_SIGNATURE\", oauth_signature_method=\"HMAC-SHA1\", oauth_timestamp=\"AUTO_GENERATED_TIMESTAMP\", oauth_token=\"USERS_ACCESS_TOKEN\", oauth_version=\"1.0\"' \n",
    "header 'content-type: application/json' \n",
    "data '{\"event\": {\"type\": \"message_create\", \"message_create\": {\"target\": {\"recipient_id\": \"RECIPIENT_USER_ID\"}, \"message_data\": {\"text\": \"Hello World!\"}}}}'"
   ]
  },
  {
   "cell_type": "code",
   "execution_count": 16,
   "metadata": {},
   "outputs": [
    {
     "ename": "AttributeError",
     "evalue": "'Api' object has no attribute 'send_direct_message_new'",
     "output_type": "error",
     "traceback": [
      "\u001b[1;31m---------------------------------------------------------------------------\u001b[0m",
      "\u001b[1;31mAttributeError\u001b[0m                            Traceback (most recent call last)",
      "\u001b[1;32m<ipython-input-16-4f6889f2d3f3>\u001b[0m in \u001b[0;36m<module>\u001b[1;34m()\u001b[0m\n\u001b[0;32m     12\u001b[0m   }\n\u001b[0;32m     13\u001b[0m }\n\u001b[1;32m---> 14\u001b[1;33m \u001b[0mapi\u001b[0m\u001b[1;33m.\u001b[0m\u001b[0msend_direct_message_new\u001b[0m\u001b[1;33m(\u001b[0m\u001b[0mevent\u001b[0m\u001b[1;33m)\u001b[0m\u001b[1;33m\u001b[0m\u001b[0m\n\u001b[0m",
      "\u001b[1;31mAttributeError\u001b[0m: 'Api' object has no attribute 'send_direct_message_new'"
     ]
    }
   ],
   "source": [
    "event = {\n",
    "  \"event\": {\n",
    "    \"type\": \"message_create\",\n",
    "    \"message_create\": {\n",
    "      \"target\": {\n",
    "        \"recipient_id\": 'ducci_mane3'\n",
    "      },\n",
    "      \"message_data\": {\n",
    "        \"text\": \"Dood this is how bots send all their shit\"\n",
    "      }\n",
    "    }\n",
    "  }\n",
    "}\n",
    "api.send_direct_message_new(event)"
   ]
  },
  {
   "cell_type": "code",
   "execution_count": 29,
   "metadata": {},
   "outputs": [
    {
     "name": "stdout",
     "output_type": "stream",
     "text": [
      "['RT @MacMillerMemoir: “Diablo” is Mac’s hardest song. Who agrees? https://t.co/8KiR9FBkGJ', 'RT @Noodles2727: Thanks to the Shoemaker Scholars for this piece! I am working with a team to bring transparency to the news industry. Big…', 'RT @Braxto97: “Can’t wait till it gets cold”  hope you bitches happy', 'RT @iekelly5: Peak athleticism https://t.co/uQp8p8Kzij', 'RT @Johnrubino68: Slobster Fest', 'RT @FeatSocks: If the Warriors win the NBA Championship we’ll give everyone who retweets this a free pair of socks', 'RT @RandallTime: If the Cleveland Cavaliers win the 2018 NBA finals I’ll buy everyone who retweet’s this a jersey...', 'RT @TroyFurlong7: The older I get, the more i appreciate the food channel', 'RT @MrAcosta89: Just in case ya forgot who suggested to @Kaepernick7 that he should kneel... https://t.co/QkfO5NV7c5', 'RT @TroyFurlong7: This song highkey bumps https://t.co/HO2LPZQggQ']\n"
     ]
    }
   ],
   "source": [
    "retweets = api.GetUserRetweets(count=None, since_id=None, max_id=None, trim_user=False)\n",
    "print([u.text for u in retweets])"
   ]
  },
  {
   "cell_type": "code",
   "execution_count": 23,
   "metadata": {},
   "outputs": [
    {
     "data": {
      "text/plain": [
       "[Trend(Name='#LoveIsland', Time=2019-06-05T23:45:15Z, URL=http://twitter.com/search?q=%23LoveIsland),\n",
       " Trend(Name='Ronaldo', Time=2019-06-05T23:45:15Z, URL=http://twitter.com/search?q=Ronaldo),\n",
       " Trend(Name='#VoxAdpocalypse', Time=2019-06-05T23:45:15Z, URL=http://twitter.com/search?q=%23VoxAdpocalypse),\n",
       " Trend(Name='#noneladurso', Time=2019-06-05T23:45:15Z, URL=http://twitter.com/search?q=%23noneladurso),\n",
       " Trend(Name='Millonarios', Time=2019-06-05T23:45:15Z, URL=http://twitter.com/search?q=Millonarios),\n",
       " Trend(Name='Mauro Naves', Time=2019-06-05T23:45:15Z, URL=http://twitter.com/search?q=%22Mauro+Naves%22),\n",
       " Trend(Name='#PORSUI', Time=2019-06-05T23:45:15Z, URL=http://twitter.com/search?q=%23PORSUI),\n",
       " Trend(Name='#WW84', Time=2019-06-05T23:45:15Z, URL=http://twitter.com/search?q=%23WW84),\n",
       " Trend(Name='Pasto', Time=2019-06-05T23:45:15Z, URL=http://twitter.com/search?q=Pasto),\n",
       " Trend(Name='Pinto', Time=2019-06-05T23:45:15Z, URL=http://twitter.com/search?q=Pinto),\n",
       " Trend(Name='ブルーライン', Time=2019-06-05T23:45:15Z, URL=http://twitter.com/search?q=%E3%83%96%E3%83%AB%E3%83%BC%E3%83%A9%E3%82%A4%E3%83%B3),\n",
       " Trend(Name='الدار البيضاء', Time=2019-06-05T23:45:15Z, URL=http://twitter.com/search?q=%22%D8%A7%D9%84%D8%AF%D8%A7%D8%B1+%D8%A7%D9%84%D8%A8%D9%8A%D8%B6%D8%A7%D8%A1%22),\n",
       " Trend(Name='Tommy', Time=2019-06-05T23:45:15Z, URL=http://twitter.com/search?q=Tommy),\n",
       " Trend(Name='Millos', Time=2019-06-05T23:45:15Z, URL=http://twitter.com/search?q=Millos),\n",
       " Trend(Name='Dedé', Time=2019-06-05T23:45:15Z, URL=http://twitter.com/search?q=Ded%C3%A9),\n",
       " Trend(Name='Cristiano', Time=2019-06-05T23:45:15Z, URL=http://twitter.com/search?q=Cristiano),\n",
       " Trend(Name='Lucie', Time=2019-06-05T23:45:15Z, URL=http://twitter.com/search?q=Lucie),\n",
       " Trend(Name='Tony Stark', Time=2019-06-05T23:45:15Z, URL=http://twitter.com/search?q=%22Tony+Stark%22),\n",
       " Trend(Name='Amber', Time=2019-06-05T23:45:15Z, URL=http://twitter.com/search?q=Amber),\n",
       " Trend(Name='Ariel Cabral', Time=2019-06-05T23:45:15Z, URL=http://twitter.com/search?q=%22Ariel+Cabral%22),\n",
       " Trend(Name='横浜市営地下鉄', Time=2019-06-05T23:45:15Z, URL=http://twitter.com/search?q=%E6%A8%AA%E6%B5%9C%E5%B8%82%E5%96%B6%E5%9C%B0%E4%B8%8B%E9%89%84),\n",
       " Trend(Name='Curtis', Time=2019-06-05T23:45:15Z, URL=http://twitter.com/search?q=Curtis),\n",
       " Trend(Name='もくようび', Time=2019-06-05T23:45:15Z, URL=http://twitter.com/search?q=%E3%82%82%E3%81%8F%E3%82%88%E3%81%86%E3%81%B3),\n",
       " Trend(Name='#スッキリ', Time=2019-06-05T23:45:15Z, URL=http://twitter.com/search?q=%23%E3%82%B9%E3%83%83%E3%82%AD%E3%83%AA),\n",
       " Trend(Name='#BirazcıkŞansımOlsa', Time=2019-06-05T23:45:15Z, URL=http://twitter.com/search?q=%23Birazc%C4%B1k%C5%9Eans%C4%B1mOlsa),\n",
       " Trend(Name='#あなたのストレスレベルを計測', Time=2019-06-05T23:45:15Z, URL=http://twitter.com/search?q=%23%E3%81%82%E3%81%AA%E3%81%9F%E3%81%AE%E3%82%B9%E3%83%88%E3%83%AC%E3%82%B9%E3%83%AC%E3%83%99%E3%83%AB%E3%82%92%E8%A8%88%E6%B8%AC),\n",
       " Trend(Name='#رابح_صقر_حفل_الرياض', Time=2019-06-05T23:45:15Z, URL=http://twitter.com/search?q=%23%D8%B1%D8%A7%D8%A8%D8%AD_%D8%B5%D9%82%D8%B1_%D8%AD%D9%81%D9%84_%D8%A7%D9%84%D8%B1%D9%8A%D8%A7%D8%B6),\n",
       " Trend(Name='#yaztahtaya', Time=2019-06-05T23:45:15Z, URL=http://twitter.com/search?q=%23yaztahtaya),\n",
       " Trend(Name='#TheVirtues', Time=2019-06-05T23:45:15Z, URL=http://twitter.com/search?q=%23TheVirtues),\n",
       " Trend(Name='#NationsLeague', Time=2019-06-05T23:45:15Z, URL=http://twitter.com/search?q=%23NationsLeague),\n",
       " Trend(Name='#هديه_العيد_من_سليب_نايس', Time=2019-06-05T23:45:15Z, URL=http://twitter.com/search?q=%23%D9%87%D8%AF%D9%8A%D9%87_%D8%A7%D9%84%D8%B9%D9%8A%D8%AF_%D9%85%D9%86_%D8%B3%D9%84%D9%8A%D8%A8_%D9%86%D8%A7%D9%8A%D8%B3),\n",
       " Trend(Name='#النوم_المتقطع', Time=2019-06-05T23:45:15Z, URL=http://twitter.com/search?q=%23%D8%A7%D9%84%D9%86%D9%88%D9%85_%D8%A7%D9%84%D9%85%D8%AA%D9%82%D8%B7%D8%B9),\n",
       " Trend(Name='#PrivatizaTudoSTF', Time=2019-06-05T23:45:15Z, URL=http://twitter.com/search?q=%23PrivatizaTudoSTF),\n",
       " Trend(Name='#Nedüşündün', Time=2019-06-05T23:45:15Z, URL=http://twitter.com/search?q=%23Ned%C3%BC%C5%9F%C3%BCnd%C3%BCn),\n",
       " Trend(Name='#JKLive', Time=2019-06-05T23:45:15Z, URL=http://twitter.com/search?q=%23JKLive),\n",
       " Trend(Name='#FalaDaNabaMano', Time=2019-06-05T23:45:15Z, URL=http://twitter.com/search?q=%23FalaDaNabaMano),\n",
       " Trend(Name='#WonderWoman1984', Time=2019-06-05T23:45:15Z, URL=http://twitter.com/search?q=%23WonderWoman1984),\n",
       " Trend(Name='#جوايز_السعوديه331', Time=2019-06-05T23:45:15Z, URL=http://twitter.com/search?q=%23%D8%AC%D9%88%D8%A7%D9%8A%D8%B2_%D8%A7%D9%84%D8%B3%D8%B9%D9%88%D8%AF%D9%8A%D9%87331),\n",
       " Trend(Name='#SEATMusicAwards19', Time=2019-06-05T23:45:15Z, URL=http://twitter.com/search?q=%23SEATMusicAwards19),\n",
       " Trend(Name='#SBTBrasil', Time=2019-06-05T23:45:15Z, URL=http://twitter.com/search?q=%23SBTBrasil),\n",
       " Trend(Name='#VodafoneMağduruyum', Time=2019-06-05T23:45:15Z, URL=http://twitter.com/search?q=%23VodafoneMa%C4%9Fduruyum),\n",
       " Trend(Name='#شارك_واربح_مع_السعوديه', Time=2019-06-05T23:45:15Z, URL=http://twitter.com/search?q=%23%D8%B4%D8%A7%D8%B1%D9%83_%D9%88%D8%A7%D8%B1%D8%A8%D8%AD_%D9%85%D8%B9_%D8%A7%D9%84%D8%B3%D8%B9%D9%88%D8%AF%D9%8A%D9%87),\n",
       " Trend(Name='#DDay75thAnniversary', Time=2019-06-05T23:45:15Z, URL=http://twitter.com/search?q=%23DDay75thAnniversary),\n",
       " Trend(Name='#WhiteHouseLiterature', Time=2019-06-05T23:45:15Z, URL=http://twitter.com/search?q=%23WhiteHouseLiterature),\n",
       " Trend(Name='#CRUxFLU', Time=2019-06-05T23:45:15Z, URL=http://twitter.com/search?q=%23CRUxFLU),\n",
       " Trend(Name='#CMTawards', Time=2019-06-05T23:45:15Z, URL=http://twitter.com/search?q=%23CMTawards),\n",
       " Trend(Name='#USAvJAM', Time=2019-06-05T23:45:15Z, URL=http://twitter.com/search?q=%23USAvJAM),\n",
       " Trend(Name='#あなたが本気で怒るとこうなる', Time=2019-06-05T23:45:15Z, URL=http://twitter.com/search?q=%23%E3%81%82%E3%81%AA%E3%81%9F%E3%81%8C%E6%9C%AC%E6%B0%97%E3%81%A7%E6%80%92%E3%82%8B%E3%81%A8%E3%81%93%E3%81%86%E3%81%AA%E3%82%8B),\n",
       " Trend(Name='#UEFANationsLeague', Time=2019-06-05T23:45:15Z, URL=http://twitter.com/search?q=%23UEFANationsLeague),\n",
       " Trend(Name='#LikeLQSA', Time=2019-06-05T23:45:15Z, URL=http://twitter.com/search?q=%23LikeLQSA)]"
      ]
     },
     "execution_count": 23,
     "metadata": {},
     "output_type": "execute_result"
    }
   ],
   "source": [
    "api.GetTrendsCurrent(exclude=None)"
   ]
  },
  {
   "cell_type": "code",
   "execution_count": null,
   "metadata": {},
   "outputs": [],
   "source": []
  }
 ],
 "metadata": {
  "kernelspec": {
   "display_name": "Python 3",
   "language": "python",
   "name": "python3"
  },
  "language_info": {
   "codemirror_mode": {
    "name": "ipython",
    "version": 3
   },
   "file_extension": ".py",
   "mimetype": "text/x-python",
   "name": "python",
   "nbconvert_exporter": "python",
   "pygments_lexer": "ipython3",
   "version": "3.7.0"
  }
 },
 "nbformat": 4,
 "nbformat_minor": 2
}
