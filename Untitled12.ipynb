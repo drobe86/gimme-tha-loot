{
 "cells": [
  {
   "cell_type": "code",
   "execution_count": 1,
   "metadata": {},
   "outputs": [],
   "source": [
    "import json"
   ]
  },
  {
   "cell_type": "code",
   "execution_count": 3,
   "metadata": {},
   "outputs": [
    {
     "name": "stdout",
     "output_type": "stream",
     "text": [
      "{\n",
      "    \"user\": {\n",
      "        \"name\": \"William W\",\n",
      "        \"age\": 93\n",
      "    }\n",
      "}\n"
     ]
    }
   ],
   "source": [
    "data = {\n",
    "    \"user\": {\n",
    "        \"name\": \"William W\",\n",
    "        \"age\": 93\n",
    "    }\n",
    "}\n",
    "#open file with write access\n",
    "with open(\"data_file.json\",\"w\") as write_file:\n",
    "    #dump not dumps because we are writing to a file like object\n",
    "    #indent adds indents to the output to make it easier to read\n",
    "    json.dump(data,write_file,indent=4)\n",
    "\n",
    "#Writing to string instead of file, so you use dumps\n",
    "json_str = json.dumps(data,indent = 4)\n",
    "print(json_str)"
   ]
  },
  {
   "cell_type": "code",
   "execution_count": 6,
   "metadata": {},
   "outputs": [],
   "source": [
    "import django"
   ]
  },
  {
   "cell_type": "code",
   "execution_count": 7,
   "metadata": {},
   "outputs": [
    {
     "ename": "SyntaxError",
     "evalue": "invalid syntax (<ipython-input-7-51b2cc738293>, line 3)",
     "output_type": "error",
     "traceback": [
      "\u001b[1;36m  File \u001b[1;32m\"<ipython-input-7-51b2cc738293>\"\u001b[1;36m, line \u001b[1;32m3\u001b[0m\n\u001b[1;33m    django-admin.py startproject appsuite\u001b[0m\n\u001b[1;37m                               ^\u001b[0m\n\u001b[1;31mSyntaxError\u001b[0m\u001b[1;31m:\u001b[0m invalid syntax\n"
     ]
    }
   ],
   "source": [
    "#Creating an app\n",
    "#django-admin.py startproject <project-name>\n",
    "django-admin.py startproject appsuite"
   ]
  },
  {
   "cell_type": "code",
   "execution_count": null,
   "metadata": {},
   "outputs": [],
   "source": []
  }
 ],
 "metadata": {
  "kernelspec": {
   "display_name": "Python 3",
   "language": "python",
   "name": "python3"
  },
  "language_info": {
   "codemirror_mode": {
    "name": "ipython",
    "version": 3
   },
   "file_extension": ".py",
   "mimetype": "text/x-python",
   "name": "python",
   "nbconvert_exporter": "python",
   "pygments_lexer": "ipython3",
   "version": "3.7.0"
  }
 },
 "nbformat": 4,
 "nbformat_minor": 2
}
